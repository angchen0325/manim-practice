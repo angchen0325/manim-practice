{
 "cells": [
  {
   "cell_type": "markdown",
   "metadata": {},
   "source": [
    "<center> <img src=\"data:image/svg+xml;base64,PD94bWwgdmVyc2lvbj0iMS4wIiBlbmNvZGluZz0idXRmLTgiPz4KPCEtLSBHZW5lcmF0b3I6IEFkb2JlIElsbHVzdHJhdG9yIDI4LjEuMCwgU1ZHIEV4cG9ydCBQbHVnLUluIC4gU1ZHIFZlcnNpb246IDYuMDAgQnVpbGQgMCkgIC0tPgo8c3ZnIHZlcnNpb249IjEuMSIgaWQ9IkxheWVyXzEiIHhtbG5zPSJodHRwOi8vd3d3LnczLm9yZy8yMDAwL3N2ZyIgeG1sbnM6eGxpbms9Imh0dHA6Ly93d3cudzMub3JnLzE5OTkveGxpbmsiIHg9IjBweCIgeT0iMHB4IgoJIHZpZXdCb3g9IjAgMCAxMDMuNSAxMDMuNSIgc3R5bGU9ImVuYWJsZS1iYWNrZ3JvdW5kOm5ldyAwIDAgMTAzLjUgMTAzLjU7IiB4bWw6c3BhY2U9InByZXNlcnZlIj4KPHN0eWxlIHR5cGU9InRleHQvY3NzIj4KCS5zdDB7ZmlsbDojMjFBQUQ0O30KCS5zdDF7ZmlsbDojQUZFMkVGO30KCS5zdDJ7ZmlsbDojNThDM0UzO30KCS5zdDN7ZmlsbDojOUQ2MzMxO30KCS5zdDR7ZmlsbDojRThEMkMyO30KCS5zdDV7ZmlsbDojRDBBNTg0O30KPC9zdHlsZT4KPGc+Cgk8Zz4KCQk8cG9seWdvbiBjbGFzcz0ic3QwIiBwb2ludHM9IjMyLjksMC4xIDU4LjQsMTMuMiA1OC40LDAuMSAJCSIvPgoJCTxwb2x5Z29uIGNsYXNzPSJzdDEiIHBvaW50cz0iMzIuOSwzOC40IDU4LjQsMjUuMyA1OC40LDM4LjQgCQkiLz4KCQk8Zz4KCQkJPHBvbHlnb24gY2xhc3M9InN0MiIgcG9pbnRzPSIyMC4zLDAuMSA1OC40LDE5LjIgMjAuMywzOC40IAkJCSIvPgoJCTwvZz4KCTwvZz4KCTxnPgoJCTxwb2x5Z29uIGNsYXNzPSJzdDAiIHBvaW50cz0iMC4xLDcwLjUgMTMuMiw0NS4xIDAuMSw0NS4xIAkJIi8+CgkJPHBvbHlnb24gY2xhc3M9InN0MSIgcG9pbnRzPSIzOC4zLDcwLjUgMjUuMyw0NS4xIDM4LjMsNDUuMSAJCSIvPgoJCTxnPgoJCQk8cG9seWdvbiBjbGFzcz0ic3QyIiBwb2ludHM9IjAuMSw4My4yIDE5LjEsNDUuMSAzOC40LDgzLjIgCQkJIi8+CgkJPC9nPgoJPC9nPgoJPGc+CgkJPHBvbHlnb24gY2xhc3M9InN0MCIgcG9pbnRzPSI3MS4xLDEwMy4zIDQ1LjcsOTAuMiA0NS43LDEwMy4zIAkJIi8+CgkJPHBvbHlnb24gY2xhc3M9InN0MSIgcG9pbnRzPSI3MS4xLDY1LjEgNDUuNyw3OC4yIDQ1LjcsNjUuMSAJCSIvPgoJCTxnPgoJCQk8cG9seWdvbiBjbGFzcz0ic3QyIiBwb2ludHM9IjgzLjgsMTAzLjMgNDUuNyw4NC4zIDgzLjgsNjUuMSAJCQkiLz4KCQk8L2c+Cgk8L2c+Cgk8Zz4KCQk8cG9seWdvbiBjbGFzcz0ic3QzIiBwb2ludHM9IjEwMy4zLDMzIDkwLjIsNTguNCAxMDMuMyw1OC40IAkJIi8+CgkJPHBvbHlnb24gY2xhc3M9InN0NCIgcG9pbnRzPSI2NS4xLDMzIDc4LjEsNTguNCA2NS4xLDU4LjQgCQkiLz4KCQk8Zz4KCQkJPHBvbHlnb24gY2xhc3M9InN0NSIgcG9pbnRzPSIxMDMuMywyMC4zIDg0LjMsNTguNCA2NSwyMC4zIAkJCSIvPgoJCTwvZz4KCTwvZz4KPC9nPgo8L3N2Zz4K\" style=\"width:10.0%\"/></center>"
   ]
  },
  {
   "cell_type": "markdown",
   "metadata": {},
   "source": [
    "<center><font size=5 face=\"Helvetica\" color=#306998><b>\n",
    "Manim Kindergarten Tutorials\n",
    "</b></font></center>"
   ]
  },
  {
   "cell_type": "markdown",
   "metadata": {},
   "source": [
    "<center><font face=\"Helvetica\" size=2><b>Ang Chen</b></font></center>\n",
    "<center><font face=\"Helvetica\" size=3>March, 2024</font></center>\n",
    "\n",
    "***"
   ]
  },
  {
   "cell_type": "markdown",
   "metadata": {},
   "source": [
    "In this notebook, we will learn how to use Manim to create animations.\n",
    "And we will break down intto five parts:\n",
    "1. Position of Objects and Coordinate Transformations\n",
    "1. Common Geometric Classes\n",
    "1. Representation, Operations, and Settings of Colors\n",
    "1. Inserting SVG, Images, and Text\n",
    "1. Coordinate Systems and Graphics  \n",
    "\n",
    "Let's get started!\n",
    "First, let's import the necessary modules. \n"
   ]
  },
  {
   "cell_type": "markdown",
   "metadata": {},
   "source": [
    "# Import the Libraries"
   ]
  },
  {
   "cell_type": "code",
   "execution_count": 1,
   "metadata": {},
   "outputs": [
    {
     "name": "stderr",
     "output_type": "stream",
     "text": [
      "usage: ipykernel_launcher.py [-h] [-w] [-s] [-l] [-m] [--hd] [--uhd] [-f] [-p]\n",
      "                             [-g] [-i] [-t] [--vcodec VCODEC]\n",
      "                             [--pix_fmt PIX_FMT] [-q] [-a] [-o] [--finder]\n",
      "                             [--config] [--file_name FILE_NAME]\n",
      "                             [-n START_AT_ANIMATION_NUMBER] [-e [EMBED]]\n",
      "                             [-r RESOLUTION] [--fps FPS] [-c COLOR]\n",
      "                             [--leave_progress_bars]\n",
      "                             [--show_animation_progress] [--prerun]\n",
      "                             [--video_dir VIDEO_DIR]\n",
      "                             [--config_file CONFIG_FILE] [-v]\n",
      "                             [--log-level LOG_LEVEL]\n",
      "                             [file] [scene_names ...]\n",
      "ipykernel_launcher.py: error: ambiguous option: --f=/Users/angchen/Library/Jupyter/runtime/kernel-v37f5409bb8892e2d8d1bb95c5d3fe6336a4714e60.json could match --full_screen, --finder, --file_name, --fps\n"
     ]
    },
    {
     "ename": "SystemExit",
     "evalue": "2",
     "output_type": "error",
     "traceback": [
      "An exception has occurred, use %tb to see the full traceback.\n",
      "\u001b[0;31mSystemExit\u001b[0m\u001b[0;31m:\u001b[0m 2\n"
     ]
    },
    {
     "name": "stderr",
     "output_type": "stream",
     "text": [
      "/Users/angchen/VenvPy/3b1b/lib/python3.12/site-packages/IPython/core/interactiveshell.py:3585: UserWarning: To exit: use 'exit', 'quit', or Ctrl-D.\n",
      "  warn(\"To exit: use 'exit', 'quit', or Ctrl-D.\", stacklevel=1)\n"
     ]
    }
   ],
   "source": [
    "from manimlib import *"
   ]
  },
  {
   "cell_type": "markdown",
   "metadata": {},
   "source": [
    "# Position of Objects and Coordinate Transformations"
   ]
  },
  {
   "cell_type": "markdown",
   "metadata": {},
   "source": [
    "The coordinate of a point is represented by a np.array([x, y, z]) in Manim:\n",
    " * For 3D scenes, it's $\\texttt{np.array([x,y,z])}$\n",
    " * For 2D scenes, it's $\\texttt{np.array([x,y,0])}$ (z-coordinate is set to 0)"
   ]
  },
  {
   "cell_type": "code",
   "execution_count": null,
   "metadata": {},
   "outputs": [],
   "source": [
    "ORIGIN, UP, DOWN, LEFT, RIGHT"
   ]
  },
  {
   "cell_type": "code",
   "execution_count": null,
   "metadata": {},
   "outputs": [],
   "source": [
    "UL, UR, DL, DR"
   ]
  },
  {
   "cell_type": "code",
   "execution_count": null,
   "metadata": {},
   "outputs": [],
   "source": [
    "TOP, BOTTOM, LEFT_SIDE, RIGHT_SIDE"
   ]
  },
  {
   "cell_type": "code",
   "execution_count": null,
   "metadata": {},
   "outputs": [],
   "source": [
    "OUT, IN"
   ]
  },
  {
   "cell_type": "code",
   "execution_count": null,
   "metadata": {},
   "outputs": [],
   "source": [
    "2*UP + 3*LEFT"
   ]
  },
  {
   "cell_type": "markdown",
   "metadata": {},
   "source": [
    "# Common Geometric Classes"
   ]
  },
  {
   "cell_type": "code",
   "execution_count": null,
   "metadata": {},
   "outputs": [],
   "source": []
  },
  {
   "cell_type": "markdown",
   "metadata": {},
   "source": [
    "# Representation, Operations, and Settings of Colors"
   ]
  },
  {
   "cell_type": "code",
   "execution_count": null,
   "metadata": {},
   "outputs": [],
   "source": []
  },
  {
   "cell_type": "markdown",
   "metadata": {},
   "source": [
    "# Inserting SVG, Images, and Text"
   ]
  },
  {
   "cell_type": "code",
   "execution_count": null,
   "metadata": {},
   "outputs": [],
   "source": []
  },
  {
   "cell_type": "markdown",
   "metadata": {},
   "source": [
    "# Coordinate Systems and Graphics"
   ]
  },
  {
   "cell_type": "code",
   "execution_count": null,
   "metadata": {},
   "outputs": [],
   "source": []
  }
 ],
 "metadata": {
  "kernelspec": {
   "display_name": "manim",
   "language": "python",
   "name": "python3"
  },
  "language_info": {
   "codemirror_mode": {
    "name": "ipython",
    "version": 3
   },
   "file_extension": ".py",
   "mimetype": "text/x-python",
   "name": "python",
   "nbconvert_exporter": "python",
   "pygments_lexer": "ipython3",
   "version": "3.12.6"
  }
 },
 "nbformat": 4,
 "nbformat_minor": 2
}
